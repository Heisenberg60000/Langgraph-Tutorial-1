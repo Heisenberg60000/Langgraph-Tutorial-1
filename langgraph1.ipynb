{
 "cells": [
  {
   "cell_type": "markdown",
   "id": "fd16bf63-e689-45ab-a1f9-417d4c193824",
   "metadata": {},
   "source": [
    "# Langgraph 1:Basics"
   ]
  },
  {
   "cell_type": "code",
   "execution_count": 7,
   "id": "1ad3821d-d6b4-4ace-a0a9-ff23233241f4",
   "metadata": {},
   "outputs": [],
   "source": [
    "#########  LangGraph  ##########################\n",
    "from langgraph.graph import StateGraph, END\n",
    "from langgraph.prebuilt import ToolNode, tools_condition\n",
    "from langgraph.checkpoint.memory import MemorySaver\n",
    "from langgraph.graph.message import add_messages\n",
    "\n",
    "import panel as pn\n",
    "from typing import TypedDict, Annotated, List, Sequence\n",
    "from IPython.display import display, Markdown,Latex,Image"
   ]
  },
  {
   "cell_type": "markdown",
   "id": "55817702-23eb-4e01-9e5a-db9278a7eab4",
   "metadata": {},
   "source": [
    "This code creates a simple state graph with a single node and records the history:\n",
    "\n",
    "1. **State Class (Briefcase to store and retrieve information)**: The `State` class contains the input (`input`) and a list of messages (`messages`).\n",
    "\n",
    "2. **Node (Agent that receives, processes, and forwards information)**: `node1` sets the message to `\"node1\"` and outputs it.\n",
    "\n",
    "3. **Graph Creation**:\n",
    "   - A `StateGraph` builder adds `node1` as both the start and endpoint.\n",
    "\n",
    "4. **Memory**: A `MemorySaver` stores the state’s sequence.\n",
    "\n",
    "5. **Visualization**: The graph is displayed as a Mermaid diagram.\n",
    "\n",
    "Result: A simple graph with a start and endpoint at the same node (`node1`), which saves the state."
   ]
  },
  {
   "cell_type": "code",
   "execution_count": 8,
   "id": "15dba472-04ab-4dee-af03-49d21d5c056c",
   "metadata": {},
   "outputs": [
    {
     "name": "stdout",
     "output_type": "stream",
     "text": [
      "1 {'input': 'hello', 'messages': 'WassuupHUHU hups', 'whatever': 'strange'}\n",
      "2 WassuupHUHU hups\n",
      "3 W\n"
     ]
    }
   ],
   "source": [
    "class State(TypedDict):\n",
    "    input: str\n",
    "    messages: Annotated[list, add_messages]\n",
    "    \n",
    "    \n",
    "state1=State()    \n",
    "state1[\"input\"]=\"hello\"\n",
    "state1[\"messages\"]=\"Wassuup\"\n",
    "state1[\"messages\"]+=\"HUHU\"\n",
    "state1[\"messages\"]+=\" hups\"\n",
    "state1[\"whatever\"]=\"strange\"\n",
    "\n",
    "print(\"1\",state1)\n",
    "print(\"2\",state1[\"messages\"])\n",
    "print(\"3\",state1[\"messages\"][0])\n",
    "\n"
   ]
  },
  {
   "cell_type": "code",
   "execution_count": 9,
   "id": "f8b56a20-76b5-4ca1-9a7f-9ff64ddb3337",
   "metadata": {},
   "outputs": [
    {
     "name": "stdout",
     "output_type": "stream",
     "text": [
      "input\n",
      "messages\n",
      "whatever\n",
      "h\n",
      "e\n",
      "l\n",
      "l\n",
      "o\n"
     ]
    }
   ],
   "source": [
    "for i in state1:\n",
    "    print(i)\n",
    "    \n",
    "for i in state1[\"input\"]:\n",
    "    print(i)    "
   ]
  },
  {
   "cell_type": "code",
   "execution_count": 10,
   "id": "d410a0f3-c92d-4ce6-8c34-aa3f5efe503b",
   "metadata": {},
   "outputs": [
    {
     "name": "stdout",
     "output_type": "stream",
     "text": [
      "{}\n"
     ]
    }
   ],
   "source": [
    "state1=State()\n",
    "print(state1)"
   ]
  },
  {
   "cell_type": "code",
   "execution_count": 11,
   "id": "16136f6c-fd44-4506-9690-38e1acc52754",
   "metadata": {},
   "outputs": [
    {
     "data": {
      "image/jpeg": "[encoded data removed]",
      "text/plain": [
       "<IPython.core.display.Image object>"
      ]
     },
     "metadata": {},
     "output_type": "display_data"
    }
   ],
   "source": [
    "class State(TypedDict):\n",
    "    input: str\n",
    "    messages: Annotated[list, add_messages]\n",
    "# Set up memory\n",
    "memory = MemorySaver()\n",
    "\n",
    "def node1(state:State):\n",
    "    print(\"in node 1\")\n",
    "    state[\"messages\"]=state[\"input\"]\n",
    "    return state \n",
    "builder = StateGraph(State)\n",
    "builder.add_node(\"node1\", node1)\n",
    "builder.set_entry_point(\"node1\") \n",
    "builder.set_finish_point(\"node1\") \n",
    "\n",
    "# Set up memory\n",
    "memory = MemorySaver()\n",
    "\n",
    "# Add\n",
    "graph = builder.compile(checkpointer=memory)\n",
    "\n",
    "# View\n",
    "display(Image(graph.get_graph().draw_mermaid_png()))"
   ]
  },
  {
   "cell_type": "markdown",
   "id": "51355ab0-efdb-4d25-9e08-5dca0b355f80",
   "metadata": {},
   "source": [
    "# To execute the graph, you can use either `graph.invoke` or `graph.stream`.\n",
    "Explanation of the differences between `graph.stream` and `graph.invoke`:\n",
    "\n",
    "---\n",
    "\n",
    "The difference between `graph.stream` and `graph.invoke` often lies in how each method manages processing within the graph. Here’s a general explanation of both methods based on common use cases:\n",
    "\n",
    "### 1. **`graph.invoke`**\n",
    "\n",
    "- **Purpose**: `invoke` is typically a straightforward way to process the entire graph in a single call. It starts from the entry point, follows the defined edges, and executes each node sequentially until either an endpoint is reached or an interruption occurs.\n",
    "- **Blocking Call**: Usually, `invoke` executes in a blocking manner, meaning it waits until the entire graph processing is completed before returning a result.\n",
    "- **Usage**: Ideal for scenarios where a series of nodes should be processed without interruptions and the final result is needed in one step.\n",
    "\n",
    "Example:\n",
    "```python\n",
    "state = State(input=\"an input value\", messages=[])\n",
    "final_state = graph.invoke(state)\n",
    "print(final_state[\"messages\"])  # Outputs the result after the entire graph has been processed.\n",
    "```\n",
    "\n",
    "### 2. **`graph.stream`**\n",
    "\n",
    "- **Purpose**: In contrast, `stream` is designed for **step-by-step or real-time processing**. It allows each node to be processed individually, returning control to the caller after each node. This is useful for cases where nodes should be processed incrementally, intermediate states should be monitored, or asynchronous processing is required.\n",
    "- **Non-Blocking / Generator**: `stream` often acts as a generator, yielding each step of the graph processing one by one. This allows the state to be checked or modified at each step, with the option to decide whether to proceed to the next node.\n",
    "- **Usage**: Best suited when control over each step in the graph is needed, intermediate states are desired, or custom logic is required at each node.\n",
    "\n",
    "Example:\n",
    "```python\n",
    "state = State(input=\"an input value\", messages=[])\n",
    "for partial_state in graph.stream(state):\n",
    "    print(partial_state[\"messages\"])  # Displays messages after each node, step-by-step.\n",
    "```\n",
    "\n",
    "### Summary Table\n",
    "\n",
    "| Method          | Description                                      | Processing Type            | Use Case |\n",
    "|-----------------|--------------------------------------------------|-----------------------------|----------|\n",
    "| `graph.invoke`  | Processes the entire graph in one go             | Blocking                    | Ideal for simple cases where the final result is needed after complete processing. |\n",
    "| `graph.stream`  | Processes nodes step-by-step, yielding each state individually | Non-Blocking / Generator | Suitable for real-time processing, monitoring intermediate states, or adding custom logic at each node. |\n",
    "\n",
    "In summary:\n",
    "- Use **`invoke`** when you want the entire graph processed in one step and only need the final result.\n",
    "- Use **`stream`** when finer control over each step is required, intermediate states need to be reviewed, or each node should be processed individually."
   ]
  },
  {
   "cell_type": "markdown",
   "id": "b4579a49-7673-4fa4-acd2-12a222cd8e44",
   "metadata": {},
   "source": [
    "### Invoke\n",
    "\n",
    "Initialize the state and start the graph"
   ]
  },
  {
   "cell_type": "code",
   "execution_count": 20,
   "id": "0c1dfc2f-a1ec-4efd-812d-e1acb657dbe4",
   "metadata": {},
   "outputs": [
    {
     "name": "stdout",
     "output_type": "stream",
     "text": [
      "in node 1\n"
     ]
    }
   ],
   "source": [
    "state1=State()\n",
    "thread = {\"configurable\": {\"thread_id\": \"1\"}}\n",
    "state1[\"input\"]=\"hello world\"\n",
    "state1=graph.invoke(state1,thread)"
   ]
  },
  {
   "cell_type": "markdown",
   "id": "cbb06888-6fc7-459d-9968-13f332dad57f",
   "metadata": {},
   "source": [
    "### Note\n",
    "\n",
    "`state1` logs all node inputs into a list.\n",
    "\n",
    "`state1` includes a `checkpointer=memory`, meaning if you run the graph again, the list will continue from where it left off."
   ]
  },
  {
   "cell_type": "code",
   "execution_count": 21,
   "id": "b9e6e718-b82c-4e9c-b9ae-f38cfea91610",
   "metadata": {},
   "outputs": [
    {
     "name": "stdout",
     "output_type": "stream",
     "text": [
      "{'input': 'hello world', 'messages': [HumanMessage(content='hello world', additional_kwargs={}, response_metadata={}, id='46700186-493a-4c76-9d69-7cebd074fa37'), HumanMessage(content='hello world', additional_kwargs={}, response_metadata={}, id='a2970a34-ef55-4863-b8f1-f0ebdacc577d'), HumanMessage(content='hello world', additional_kwargs={}, response_metadata={}, id='bf2c3915-c8d4-4183-8cdb-fcad5059e7dd')]}\n"
     ]
    }
   ],
   "source": [
    "print(state1)"
   ]
  },
  {
   "cell_type": "code",
   "execution_count": 22,
   "id": "0b01e4be-3510-4cf0-b897-45d7731899af",
   "metadata": {},
   "outputs": [
    {
     "name": "stdout",
     "output_type": "stream",
     "text": [
      "hello world\n",
      "[HumanMessage(content='hello world', additional_kwargs={}, response_metadata={}, id='46700186-493a-4c76-9d69-7cebd074fa37'), HumanMessage(content='hello world', additional_kwargs={}, response_metadata={}, id='a2970a34-ef55-4863-b8f1-f0ebdacc577d'), HumanMessage(content='hello world', additional_kwargs={}, response_metadata={}, id='bf2c3915-c8d4-4183-8cdb-fcad5059e7dd')]\n",
      "hello world\n",
      "{}\n",
      "{}\n",
      "46700186-493a-4c76-9d69-7cebd074fa37\n"
     ]
    }
   ],
   "source": [
    "print(state1[\"input\"])\n",
    "print(state1[\"messages\"])\n",
    "print(state1[\"messages\"][0].content)\n",
    "print(state1[\"messages\"][0].additional_kwargs)\n",
    "print(state1[\"messages\"][0].response_metadata)\n",
    "print(state1[\"messages\"][0].id)"
   ]
  },
  {
   "cell_type": "code",
   "execution_count": 23,
   "id": "881ebfce-4949-4696-8afe-db119a6472cf",
   "metadata": {},
   "outputs": [
    {
     "name": "stdout",
     "output_type": "stream",
     "text": [
      "content='hello world' additional_kwargs={} response_metadata={} id='46700186-493a-4c76-9d69-7cebd074fa37'\n",
      "content='hello world' additional_kwargs={} response_metadata={} id='a2970a34-ef55-4863-b8f1-f0ebdacc577d'\n",
      "content='hello world' additional_kwargs={} response_metadata={} id='bf2c3915-c8d4-4183-8cdb-fcad5059e7dd'\n"
     ]
    }
   ],
   "source": [
    "for i in state1[\"messages\"]:\n",
    "    print(i)"
   ]
  },
  {
   "cell_type": "markdown",
   "id": "70c9dd97-4230-450f-b4f6-ce607cfc5267",
   "metadata": {},
   "source": [
    "### Stream\n",
    "\n",
    "Initialize the state and start the graph.\n",
    "\n",
    "To reinitialize the state, recompile the graph."
   ]
  },
  {
   "cell_type": "code",
   "execution_count": 24,
   "id": "5e658dc0-b482-4b1a-a3c5-962776e9577e",
   "metadata": {},
   "outputs": [
    {
     "name": "stdout",
     "output_type": "stream",
     "text": [
      "{'input': 'hello Dude', 'messages': [HumanMessage(content='hello world', additional_kwargs={}, response_metadata={}, id='46700186-493a-4c76-9d69-7cebd074fa37'), HumanMessage(content='hello world', additional_kwargs={}, response_metadata={}, id='a2970a34-ef55-4863-b8f1-f0ebdacc577d'), HumanMessage(content='hello world', additional_kwargs={}, response_metadata={}, id='bf2c3915-c8d4-4183-8cdb-fcad5059e7dd')]}\n",
      "in node 1\n",
      "{'input': 'hello Dude', 'messages': [HumanMessage(content='hello world', additional_kwargs={}, response_metadata={}, id='46700186-493a-4c76-9d69-7cebd074fa37'), HumanMessage(content='hello world', additional_kwargs={}, response_metadata={}, id='a2970a34-ef55-4863-b8f1-f0ebdacc577d'), HumanMessage(content='hello world', additional_kwargs={}, response_metadata={}, id='bf2c3915-c8d4-4183-8cdb-fcad5059e7dd'), HumanMessage(content='hello Dude', additional_kwargs={}, response_metadata={}, id='7a0546ed-cd99-4604-adfc-cae73dbe6166')]}\n"
     ]
    }
   ],
   "source": [
    "# Input\n",
    "initial_input = {\"input\": \"hello Dude\"}\n",
    "\n",
    "# Thread\n",
    "thread = {\"configurable\": {\"thread_id\": \"1\"}}\n",
    "\n",
    "# Run the graph until the first interruption\n",
    "for event in graph.stream(initial_input, thread, stream_mode=\"values\"):\n",
    "    print(event)"
   ]
  },
  {
   "cell_type": "markdown",
   "id": "89bdc715-8288-4656-992d-ae2594a0a02a",
   "metadata": {},
   "source": [
    "\n",
    "### 1. `input_function(question: str)`\n",
    "\n",
    "This function takes a question as input and processes it in the following way:\n",
    "\n",
    "- **Global State**: It uses `global state` to access the `state` object across functions.\n",
    "- **Thread Configuration**: A dictionary named `thread` is created with a `thread_id` set to `\"1\"`. This could be part of a mechanism to manage multiple conversation threads, ensuring that responses are processed within the same thread.\n",
    "- **Pass Question to State**: The comment `## ÜBERGABE VON QUESTION TO STATE[\"INPUT\"]` suggests that the `question` input should be passed to `state[\"input\"]`, storing the question in the global `state` object for later retrieval or processing.\n",
    "- **Graph Execution and Answer Retrieval**: `## GRAPH AUSFÜHREN UND ÜBERGABE VON ANSWER TO STATE` implies that a graph (likely representing some stateful process) is executed using the input stored in `state`. Once this graph has processed the input, it provides an `answer`, which is also stored in the `state`.\n",
    "- **Return Answer**: The function then returns the `answer` generated by the graph.\n",
    "\n",
    "### 2. Widgets for Input and Output\n",
    "\n",
    "- **Question Widget**: `question = pn.widgets.TextInput(...)` creates a text input widget named `question`, where the user can type their question. It has a placeholder \"Task\" and adjusts its size based on `sizing_mode`.\n",
    "- **Output Panel**: `output = pn.pane.Markdown(\"Answer\")` initializes a markdown pane where the answer will be displayed.\n",
    "\n",
    "### 3. `button_click(event)`\n",
    "\n",
    "This function is called whenever the answer button (`answer_button`) is clicked:\n",
    "\n",
    "- **Bind Input Function**: It binds the `input_function` to the `question` widget value. This way, `input_function` will take the content of `question` as its argument.\n",
    "- **Execute and Display Result**: It attempts to execute the `input_function`, which processes the question and generates an answer. The result is then displayed in the `output` panel.\n",
    "- **Error Handling**: If there is an error in executing `input_function`, it catches the exception and updates `output` to display the error message.\n",
    "\n",
    "### 4. `answer_button` Button\n",
    "\n",
    "- **Button Setup**: `answer_button = pn.widgets.Button(...)` creates a button named \"Answer\" with specified dimensions. \n",
    "- **Event Binding**: `answer_button.on_click(button_click)` binds the `button_click` function to the button's `on_click` event, so `button_click` is called when the button is pressed.\n",
    "\n",
    "### 5. Layout Design (`Tab` and `layout`)\n",
    "\n",
    "- **Tab**: The `Tab` layout arranges the input, button, and output into a column, with dividers for organization.\n",
    "- **Main Layout**: `layout = pn.Column(pn.Tabs(('Answer', Tab)))` organizes the app into a tab-based layout, with one tab for the answer output. The `layout.show()` call displays the application.\n",
    "\n",
    "### Summary of Execution Flow\n",
    "\n",
    "1. The user enters a question in the `question` input widget.\n",
    "2. The `Answer` button is clicked, triggering `button_click`.\n",
    "3. `button_click` binds `input_function` to the `question` value, calls it, and receives the answer.\n",
    "4. The answer is displayed in the `output` panel, updating the app’s display for the user. \n",
    "\n",
    "This setup enables a user to enter a question, process it through the stateful graph, and view the result within an interactive panel app interface."
   ]
  },
  {
   "cell_type": "code",
   "execution_count": 25,
   "id": "68616412-5d4d-4f82-9c55-dff0eb5b8395",
   "metadata": {},
   "outputs": [
    {
     "name": "stdout",
     "output_type": "stream",
     "text": [
      "Launching server at http://localhost:61030\n"
     ]
    },
    {
     "data": {
      "text/plain": [
       "<panel.io.server.Server at 0x168ff422a40>"
      ]
     },
     "execution_count": 25,
     "metadata": {},
     "output_type": "execute_result"
    }
   ],
   "source": [
    "def input_function(question:str):\n",
    "    global state\n",
    "    thread = {\"configurable\": {\"thread_id\": \"1\"}}  \n",
    "## ÜBERGABE VON QUESTION TO STATE[\"INPUT\"]\n",
    "\n",
    "## GRAPH AUSFÜHREN UND ÜBERGABE VON ANSWER TO STATE\n",
    "    \n",
    "    return answer\n",
    "\n",
    "## Widget für die Eingabe\n",
    "question = pn.widgets.TextInput(name=\"Input here please\", placeholder=\"Task\", sizing_mode=\"stretch_width\")\n",
    "## Panel für die AUsgabe\n",
    "output = pn.pane.Markdown(\"Answer\")\n",
    "\n",
    "## Funktion, welche bei button_click der input_function die Frage, welche in das Widget eingegebn wurde übergibt. \n",
    "## Das Resultat von input_function wird an den output übetragen, weler in der App angezeigt wird \n",
    "def button_click(event):\n",
    "    if answer_button.clicks > 0:\n",
    "        bound_function = pn.bind(input_function, question)\n",
    "        try:\n",
    "            result = bound_function()\n",
    "            output.object = f\"Start answer:\\n {result}\"\n",
    "        except Exception as e:\n",
    "             output.object = f\"Error in start_button_click: {e}\"\n",
    "\n",
    "answer_button = pn.widgets.Button(name=\"Answer\", button_type=\"primary\", width=50, height=50)\n",
    "answer_button.on_click(button_click)\n",
    "\n",
    "Tab = pn.Column(\n",
    "            pn.Row(question),\n",
    "            pn.panel(answer_button, loading_indicator=True, height=50),\n",
    "            pn.layout.Divider(),\n",
    "            pn.panel(output, loading_indicator=True, height=900),\n",
    "            sizing_mode=\"stretch_width\"\n",
    "        )\n",
    "\n",
    "\n",
    "layout = pn.Column(pn.Tabs(('Answer', Tab)))\n",
    "layout.show()"
   ]
  },
  {
   "cell_type": "markdown",
   "id": "d45c6293-a5b5-4a1f-9218-a1b9deb3f171",
   "metadata": {},
   "source": [
    "# Agent exchange (connecting agents with each other)"
   ]
  },
  {
   "cell_type": "code",
   "execution_count": 26,
   "id": "7a61c425-89a4-44b8-83d4-4f390f520a57",
   "metadata": {},
   "outputs": [
    {
     "data": {
      "image/jpeg": "[encoded data removed]",
      "text/plain": [
       "<IPython.core.display.Image object>"
      ]
     },
     "metadata": {},
     "output_type": "display_data"
    }
   ],
   "source": [
    "class State(TypedDict):\n",
    "    input: str\n",
    "    messages: Annotated[list, add_messages]\n",
    "# Set up memory\n",
    "memory = MemorySaver()\n",
    "\n",
    "def node1(state:State):\n",
    "    print(\"start node 1\",state[\"input\"])\n",
    "    state[\"messages\"]=state[\"input\"]\n",
    "    return state \n",
    "def node2(state:State):\n",
    "    print(\"start node 2\")\n",
    "    state[\"messages\"]=\"start node 2\"\n",
    "    return state   \n",
    "    \n",
    "builder = StateGraph(State)\n",
    "builder.add_node(\"node1\", node1)\n",
    "builder.add_node(\"node2\", node2)\n",
    "builder.add_edge(\"node1\", \"node2\")\n",
    "builder.set_entry_point(\"node1\") \n",
    "builder.set_finish_point(\"node2\") \n",
    "\n",
    "# Set up memory\n",
    "memory = MemorySaver()\n",
    "\n",
    "# Add\n",
    "graph = builder.compile(checkpointer=memory)\n",
    "\n",
    "# View\n",
    "display(Image(graph.get_graph().draw_mermaid_png()))"
   ]
  },
  {
   "cell_type": "code",
   "execution_count": 27,
   "id": "83195981-93ff-4815-8330-d46bd8020bfd",
   "metadata": {},
   "outputs": [
    {
     "name": "stdout",
     "output_type": "stream",
     "text": [
      "start node 1 HEllo\n",
      "start node 2\n"
     ]
    }
   ],
   "source": [
    "state=State()\n",
    "state[\"input\"]=\"HEllo\"\n",
    "thread = {\"configurable\": {\"thread_id\": \"1\"}} \n",
    "state=graph.invoke(state,thread)"
   ]
  },
  {
   "cell_type": "markdown",
   "id": "07b107e0-611a-4478-84b8-6bef5977e2dd",
   "metadata": {},
   "source": [
    "## Mit Panel App"
   ]
  },
  {
   "cell_type": "code",
   "execution_count": 28,
   "id": "3e75b7e2-7185-48fe-aaf4-ea359d3a521a",
   "metadata": {},
   "outputs": [
    {
     "name": "stdout",
     "output_type": "stream",
     "text": [
      "Launching server at http://localhost:61041\n"
     ]
    },
    {
     "data": {
      "text/plain": [
       "<panel.io.server.Server at 0x1689ad995d0>"
      ]
     },
     "execution_count": 28,
     "metadata": {},
     "output_type": "execute_result"
    }
   ],
   "source": [
    "state =State()\n",
    "def input_function(question:str):\n",
    "    global state\n",
    "    thread = {\"configurable\": {\"thread_id\": \"1\"}}  \n",
    "    state[\"input\"]=question\n",
    "    state=graph.invoke(state,thread)\n",
    "    answer=state[\"messages\"][-1].content\n",
    "    print(\"input_function\",answer)\n",
    "    return answer\n",
    "\n",
    "## Widget für die Eingabe\n",
    "question = pn.widgets.TextInput(name=\"Input here please\", placeholder=\"Task\", sizing_mode=\"stretch_width\")\n",
    "## Panel für die AUsgabe\n",
    "output = pn.pane.Markdown(\"Answer\")\n",
    "\n",
    "## Funktion, welche bei button_click der input_function die Frage, welche in das Widget eingegebn wurde übergibt. \n",
    "## Das Resultat von input_function wird an den output übetragen, weler in der App angezeigt wird \n",
    "def button_click(event):\n",
    "    if answer_button.clicks > 0:\n",
    "        bound_function = pn.bind(input_function, question)\n",
    "        try:\n",
    "            result = bound_function()\n",
    "            output.object = f\"Start answer:\\n {result}\"\n",
    "        except Exception as e:\n",
    "             output.object = f\"Error in start_button_click: {e}\"\n",
    "\n",
    "answer_button = pn.widgets.Button(name=\"Answer\", button_type=\"primary\", width=50, height=50)\n",
    "answer_button.on_click(button_click)\n",
    "\n",
    "Tab = pn.Column(\n",
    "            pn.Row(question),\n",
    "            pn.panel(answer_button, loading_indicator=True, height=50),\n",
    "            pn.layout.Divider(),\n",
    "            pn.panel(output, loading_indicator=True, height=900),\n",
    "            sizing_mode=\"stretch_width\"\n",
    "        )\n",
    "\n",
    "\n",
    "layout = pn.Column(pn.Tabs(('Answer', Tab)))\n",
    "layout.show()"
   ]
  },
  {
   "cell_type": "markdown",
   "id": "d564522d-d7d6-4660-8870-c3e8158a8998",
   "metadata": {},
   "source": [
    "# Exercise 2: Insert a third agent (node)"
   ]
  },
  {
   "cell_type": "code",
   "execution_count": null,
   "id": "418f63d8-52d2-43e1-82fb-c5024ddde7d8",
   "metadata": {},
   "outputs": [],
   "source": []
  }
 ],
 "metadata": {
  "kernelspec": {
   "display_name": "Python 3 (ipykernel)",
   "language": "python",
   "name": "python3"
  },
  "language_info": {
   "codemirror_mode": {
    "name": "ipython",
    "version": 3
   },
   "file_extension": ".py",
   "mimetype": "text/x-python",
   "name": "python",
   "nbconvert_exporter": "python",
   "pygments_lexer": "ipython3",
   "version": "3.10.0"
  }
 },
 "nbformat": 4,
 "nbformat_minor": 5
}
